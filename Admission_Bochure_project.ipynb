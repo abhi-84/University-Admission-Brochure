{
 "cells": [
  {
   "cell_type": "code",
   "execution_count": 1,
   "id": "2ef5689b-2f88-494e-ad0d-9b7b89e9a25e",
   "metadata": {},
   "outputs": [],
   "source": [
    "import os\n",
    "import requests\n",
    "import json\n",
    "from typing import List\n",
    "from dotenv import load_dotenv\n",
    "from bs4 import BeautifulSoup\n",
    "from IPython.display import Markdown, display, update_display\n",
    "from openai import OpenAI"
   ]
  },
  {
   "cell_type": "code",
   "execution_count": 2,
   "id": "579c2849-2bcc-41ba-b1f8-78c91f98107d",
   "metadata": {},
   "outputs": [
    {
     "name": "stdout",
     "output_type": "stream",
     "text": [
      "API key looks good so far\n"
     ]
    }
   ],
   "source": [
    "load_dotenv(override=True)\n",
    "api_key = os.getenv('OPENAI_API_KEY')\n",
    "\n",
    "if api_key and api_key.startswith('sk-proj-') and len(api_key)>10:\n",
    "    print(\"API key looks good so far\")\n",
    "else:\n",
    "    print(\"There might be a problem with your API key? Please visit the troubleshooting notebook!\")\n",
    "    \n",
    "MODEL = 'gpt-4o-mini'\n",
    "openai = OpenAI()"
   ]
  },
  {
   "cell_type": "code",
   "execution_count": 3,
   "id": "83d71bc1-498d-4f9e-acbb-737f68703a2f",
   "metadata": {},
   "outputs": [],
   "source": [
    "headers = {\n",
    " \"User-Agent\": \"Mozilla/5.0 (Windows NT 10.0; Win64; x64) AppleWebKit/537.36 (KHTML, like Gecko) Chrome/117.0.0.0 Safari/537.36\"\n",
    "}\n",
    "\n",
    "class Website:\n",
    "    \"\"\"\n",
    "    A utility class to represent a Website that we have scraped, now with links\n",
    "    \"\"\"\n",
    "\n",
    "    def __init__(self, url):\n",
    "        self.url = url\n",
    "        response = requests.get(url, headers=headers)\n",
    "        self.body = response.content\n",
    "        soup = BeautifulSoup(self.body, 'html.parser')\n",
    "        self.title = soup.title.string if soup.title else \"No title found\"\n",
    "        if soup.body:\n",
    "            for irrelevant in soup.body([\"script\", \"style\", \"img\", \"input\"]):\n",
    "                irrelevant.decompose()\n",
    "            self.text = soup.body.get_text(separator=\"\\n\", strip=True)\n",
    "        else:\n",
    "            self.text = \"\"\n",
    "        links = [link.get('href') for link in soup.find_all('a')]\n",
    "        self.links = [link for link in links if link]\n",
    "\n",
    "    def get_contents(self):\n",
    "        return f\"Webpage Title:\\n{self.title}\\nWebpage Contents:\\n{self.text}\\n\\n\""
   ]
  },
  {
   "cell_type": "code",
   "execution_count": 4,
   "id": "a3e9ef71-d957-4771-a27f-da29aff7d05a",
   "metadata": {},
   "outputs": [],
   "source": [
    "link_system_prompt = \"You are provided with a list of links found on a webpage. \\\n",
    "You are able to decide which of the links would be most relevant to include in a admission brochure about the University, \\\n",
    "such as links to an About page, or a Univerity page, Admission page, academics, lpunest, research, campus life and placements.\\n\"\n",
    "link_system_prompt += \"You should respond in JSON as in this example:\"\n",
    "link_system_prompt += \"\"\"\n",
    "{\n",
    "    \"links\": [\n",
    "        {\"type\": \"about page\", \"url\": \"https://full.url/goes/here/about\"},\n",
    "        {\"type\": \"careers page\": \"url\": \"https://another.full.url/careers\"}\n",
    "    ]\n",
    "}\n",
    "\"\"\""
   ]
  },
  {
   "cell_type": "code",
   "execution_count": 5,
   "id": "dfc9b450-49d5-4b08-8354-9bb7bcdccb4a",
   "metadata": {},
   "outputs": [],
   "source": [
    "def get_links_user_prompt(website):\n",
    "    user_prompt = f\"Here is the list of links on the website of {website.url} - \"\n",
    "    user_prompt += \"please decide which of these are relevant web links for a brochure about the university, respond with the full https URL in JSON format. \\\n",
    "Do not include Terms of Service, Privacy, jobs, happenings, email links.\\n\"\n",
    "    user_prompt += \"Links (some might be relative links):\\n\"\n",
    "    user_prompt += \"\\n\".join(website.links)\n",
    "    return user_prompt"
   ]
  },
  {
   "cell_type": "code",
   "execution_count": 6,
   "id": "301bfb78-b4d3-423c-94ea-1c9c95a7acc2",
   "metadata": {},
   "outputs": [],
   "source": [
    "def get_links(url):\n",
    "    website = Website(url)\n",
    "    response = openai.chat.completions.create(\n",
    "        model=MODEL,\n",
    "        messages=[\n",
    "            {\"role\": \"system\", \"content\": link_system_prompt},\n",
    "            {\"role\": \"user\", \"content\": get_links_user_prompt(website)}\n",
    "      ],\n",
    "        response_format={\"type\": \"json_object\"}\n",
    "    )\n",
    "    result = response.choices[0].message.content\n",
    "    return json.loads(result)"
   ]
  },
  {
   "cell_type": "code",
   "execution_count": 7,
   "id": "16f57f2c-c57d-4dc4-9cf6-f57382c95559",
   "metadata": {},
   "outputs": [],
   "source": [
    "def get_all_details(url):\n",
    "    result = \"Landing page:\\n\"\n",
    "    result += Website(url).get_contents()\n",
    "    links = get_links(url)\n",
    "    print(\"Found links:\", links)\n",
    "    for link in links[\"links\"]:\n",
    "        result += f\"\\n\\n{link['type']}\\n\"\n",
    "        result += Website(link[\"url\"]).get_contents()\n",
    "    return result"
   ]
  },
  {
   "cell_type": "code",
   "execution_count": 8,
   "id": "e48ecf03-de13-4b73-b7a3-c17faf8ec237",
   "metadata": {},
   "outputs": [],
   "source": [
    "system_prompt = \"You are an assistant that analyzes the contents of several relevant pages from a university website \\\n",
    "and creates a short and crisp brochure about the university for prospective in-capus admissions, online and distance education. Respond in markdown.\\\n",
    "Include details of university campus culture, academics, students placements, accreditations and research if you have the information.\""
   ]
  },
  {
   "cell_type": "code",
   "execution_count": 9,
   "id": "ebbdcade-dff9-4333-8248-1a62b36acbac",
   "metadata": {},
   "outputs": [],
   "source": [
    "def get_brochure_user_prompt(university_name, url):\n",
    "    user_prompt = f\"You are looking at a University called: {university_name}\\n\"\n",
    "    user_prompt += f\"Here are the contents of its landing page and other relevant pages; use this information to build a short admission-centric brochure of the university in markdown.\\n\"\n",
    "    user_prompt += get_all_details(url)\n",
    "    user_prompt = user_prompt[:10000] # Truncate if more than 5,000 characters\n",
    "    return user_prompt"
   ]
  },
  {
   "cell_type": "code",
   "execution_count": 10,
   "id": "8e8ed4b3-0f78-4147-8deb-b7468b02a21e",
   "metadata": {},
   "outputs": [],
   "source": [
    "def create_brochure(university_name,url):\n",
    "    response = openai.chat.completions.create(\n",
    "        model=MODEL,\n",
    "        messages=[\n",
    "            {\"role\": \"system\", \"content\": system_prompt},\n",
    "            {\"role\": \"user\", \"content\": get_brochure_user_prompt(university_name, url)}\n",
    "          ],\n",
    "    )\n",
    "    result = response.choices[0].message.content\n",
    "    return str(result)\n",
    "#    display(Markdown(result))"
   ]
  },
  {
   "cell_type": "code",
   "execution_count": 11,
   "id": "e355aa86-fa61-4940-b986-0715ad731a9f",
   "metadata": {},
   "outputs": [],
   "source": [
    "translate_system_prompt = \"You are an assistant that analyzes the contents of several relevant pages from a university brochure written in English language \\\n",
    "and translate it completely into the user's selected language. Respond in markdown.\""
   ]
  },
  {
   "cell_type": "code",
   "execution_count": 12,
   "id": "193942e7-2267-4aaa-b23d-656eeedae11d",
   "metadata": {},
   "outputs": [],
   "source": [
    "def translate_brochure_user_prompt(university_name, url,lang):\n",
    "    translate_prompt = f\"You are looking at a University called: {university_name}\\n\"\n",
    "    translate_prompt += f\"Here are the contents of the University Brochure in English language; use this information and translate all into {lang} language in markdown.\\n\"\n",
    "    translate_prompt += create_brochure(university_name,url)\n",
    "    translate_prompt = translate_prompt[:10000] # Truncate if more than 5,000 characters\n",
    "    return translate_prompt"
   ]
  },
  {
   "cell_type": "code",
   "execution_count": 13,
   "id": "acfebdbf-6b02-4fb3-840f-53e92f3161a4",
   "metadata": {},
   "outputs": [],
   "source": [
    "def translate_brochure(university_name, url, lang):\n",
    "    translate_response = openai.chat.completions.create(\n",
    "        model=MODEL,\n",
    "        messages=[\n",
    "            {\"role\": \"system\", \"content\": translate_system_prompt},\n",
    "            {\"role\": \"user\", \"content\": translate_brochure_user_prompt(university_name, url, lang)}\n",
    "          ],\n",
    "    )\n",
    "    translate_result = translate_response.choices[0].message.content\n",
    "    yield translate_result"
   ]
  },
  {
   "cell_type": "code",
   "execution_count": 14,
   "id": "192c8b39-2364-45a2-8b76-c00f4bbde3b1",
   "metadata": {},
   "outputs": [
    {
     "name": "stdout",
     "output_type": "stream",
     "text": [
      "* Running on local URL:  http://127.0.0.1:7873\n",
      "\n",
      "To create a public link, set `share=True` in `launch()`.\n"
     ]
    },
    {
     "data": {
      "text/html": [
       "<div><iframe src=\"http://127.0.0.1:7873/\" width=\"100%\" height=\"500\" allow=\"autoplay; camera; microphone; clipboard-read; clipboard-write;\" frameborder=\"0\" allowfullscreen></iframe></div>"
      ],
      "text/plain": [
       "<IPython.core.display.HTML object>"
      ]
     },
     "metadata": {},
     "output_type": "display_data"
    },
    {
     "data": {
      "text/plain": []
     },
     "execution_count": 14,
     "metadata": {},
     "output_type": "execute_result"
    },
    {
     "name": "stdout",
     "output_type": "stream",
     "text": [
      "Found links: {'links': [{'type': 'university page', 'url': 'https://www.lpu.in'}, {'type': 'admission page', 'url': 'https://admission.lpu.in/'}, {'type': 'academics page', 'url': 'https://www.lpu.in/academics/'}, {'type': 'about page', 'url': 'https://www.lpu.in/about-lpu/'}, {'type': 'placements page', 'url': 'https://www.lpu.in/placements.php'}, {'type': 'international opportunities', 'url': 'https://www.lpu.in/international/'}, {'type': 'campus life', 'url': 'https://www.lpu.in/campus-life/'}, {'type': 'programmes page', 'url': 'https://www.lpu.in/programmes/all/'}, {'type': 'scholarship page', 'url': 'https://www.lpu.in/scholarship/scholarship.php'}, {'type': 'contact page', 'url': 'https://www.lpu.in/contact-us/contact-us.php'}]}\n"
     ]
    }
   ],
   "source": [
    "import gradio as gr # oh yeah!\n",
    "input_text1=gr.Textbox(label=\"University Name:\")\n",
    "input_text2=gr.Textbox(label=\"University URL:\")\n",
    "input_text3=gr.Dropdown([\"Hindi\", \"English\", \"Punjabi\", \"Kannada\", \"Telugu\", \"Tamil\"], label=\"Choose your Language\", value=\"English\")\n",
    "view = gr.Interface(\n",
    "    fn=translate_brochure,\n",
    "    inputs=[input_text1,input_text2,input_text3],\n",
    "    outputs=[gr.Markdown(label=\"Brochure:\")],\n",
    "    title=\"University Admission Brochure\",\n",
    "    flagging_mode=\"never\"\n",
    ")\n",
    "view.launch(inbrowser=True)"
   ]
  },
  {
   "cell_type": "code",
   "execution_count": null,
   "id": "acc09aef-3648-48c4-b342-da0481a02c37",
   "metadata": {},
   "outputs": [],
   "source": []
  }
 ],
 "metadata": {
  "kernelspec": {
   "display_name": "Python 3 (ipykernel)",
   "language": "python",
   "name": "python3"
  },
  "language_info": {
   "codemirror_mode": {
    "name": "ipython",
    "version": 3
   },
   "file_extension": ".py",
   "mimetype": "text/x-python",
   "name": "python",
   "nbconvert_exporter": "python",
   "pygments_lexer": "ipython3",
   "version": "3.11.11"
  }
 },
 "nbformat": 4,
 "nbformat_minor": 5
}
